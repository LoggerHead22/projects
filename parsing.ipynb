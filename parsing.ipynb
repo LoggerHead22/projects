{
 "cells": [
  {
   "cell_type": "code",
   "execution_count": 10,
   "metadata": {},
   "outputs": [],
   "source": [
    "import requests\n",
    "import lxml\n",
    "import json\n",
    "import re\n",
    "import time\n",
    "from bs4 import BeautifulSoup"
   ]
  },
  {
   "cell_type": "code",
   "execution_count": 11,
   "metadata": {},
   "outputs": [],
   "source": [
    "base_url = 'https://shop.relod.ru/catalog-products/4577/?sort=PROPERTY_RATING&order=desc'"
   ]
  },
  {
   "cell_type": "code",
   "execution_count": 12,
   "metadata": {},
   "outputs": [],
   "source": [
    "def log_progress(sequence, every=10): ## функция для логирования прогресса\n",
    "    from ipywidgets import IntProgress, HTML, VBox\n",
    "    from IPython.display import display\n",
    "\n",
    "    progress = IntProgress(min=0, max=len(sequence), value=0)\n",
    "    \n",
    "    label = HTML()\n",
    "    box = VBox(children=[label, progress])\n",
    "    display(box)\n",
    "    \n",
    "    for index, record in enumerate(sequence):\n",
    "        if index % every == 0:\n",
    "            progress.value = index + 1\n",
    "        label.value = '{name}: {index} / {len_}'.format(\n",
    "                        name='Page',\n",
    "                        index=index + 1,\n",
    "                        len_ = len(sequence)\n",
    "                    )\n",
    "        yield record"
   ]
  },
  {
   "cell_type": "code",
   "execution_count": 13,
   "metadata": {},
   "outputs": [],
   "source": [
    "class BadPageError(Exception):\n",
    "    def __init__(self, message, errors):\n",
    "        super().__init__(message)\n",
    "        self.errors = errors\n",
    "        print('Printing Errors:')\n",
    "        print(errors)"
   ]
  },
  {
   "cell_type": "code",
   "execution_count": 14,
   "metadata": {},
   "outputs": [],
   "source": [
    "def get_page(url, n_attempts=5, t_sleep=1):\n",
    "    for _ in range(n_attempts):\n",
    "        try:\n",
    "            page = requests.get(url)\n",
    "        except requests.exceptions.RequestException as e:\n",
    "            print('Error: ', e, file=sys.stderr)\n",
    "        else:\n",
    "            if page.status_code == 200:\n",
    "                return page\n",
    "        time.sleep(t_sleep)\n",
    "    return None"
   ]
  },
  {
   "cell_type": "markdown",
   "metadata": {},
   "source": [
    "## 1. Сохранение ссылок"
   ]
  },
  {
   "cell_type": "markdown",
   "metadata": {},
   "source": [
    "Простой способ не работает, т.к даже в рамках одной обкачки книги могут прыгать между страницами."
   ]
  },
  {
   "cell_type": "code",
   "execution_count": 15,
   "metadata": {},
   "outputs": [],
   "source": [
    "def urls_getter(url): ##Функция для скачивания ссылок (простой способ - не работает)\n",
    "    urls_list = []\n",
    "    pages = []\n",
    "    for i in log_progress(range(250), 1):\n",
    "        page = get_page(url + f'&PAGEN_1={i + 1}')\n",
    "        if page is None:\n",
    "            return None\n",
    "        \n",
    "        soup = BeautifulSoup(page.content, 'html.parser')\n",
    "        desc = soup.find('div', class_= 'catalog-section bx-blue').find('div', \n",
    "                                                                class_ = 'row').find_all('a', \n",
    "                                                                                         class_ = 'bxr-item-image-wrap')\n",
    "        urls_list += list(map(lambda x: 'https://shop.relod.ru' + x.attrs['href'], desc))\n",
    "    return urls_list"
   ]
  },
  {
   "cell_type": "code",
   "execution_count": 16,
   "metadata": {},
   "outputs": [],
   "source": [
    "def urls_getter_fast(url): ##Функция для скачивания ссылок (быстрый способ)\n",
    "    urls_list = []\n",
    "    for i in log_progress(range(250), 1):\n",
    "        data = {'siteId': 's1', 'action': 'showMore', 'PAGEN_1':i + 1,\n",
    "                'template': '.default.5066805247fd90f4681c9458759019c47aeeee73c2035d99874d41cd9e7eb382',\n",
    "                'parameters': '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.28da89bd5427820782e2cf9d1b054c9dbe204262cb62c52317e723b800c1a37e'\n",
    "                }\n",
    "        try:\n",
    "            page = requests.post('https://shop.relod.ru/bitrix/components/bxready.market2/catalog.section/ajax.php',\n",
    "                                 data = data)\n",
    "        except requests.exceptions.RequestException as e:\n",
    "            print('Error: ', e)\n",
    "            return None\n",
    "        soup = BeautifulSoup(page.content, 'html.parser')\n",
    "        desc = soup.find('div', class_= 'catalog-section bx-blue').find('div', \n",
    "                                                                class_ = 'row').find_all('a', \n",
    "                                                                                         class_ = 'bxr-item-image-wrap')\n",
    "        urls_list += list(map(lambda x: 'https://shop.relod.ru' + x.attrs['href'], desc))\n",
    "    return urls_list"
   ]
  },
  {
   "cell_type": "code",
   "execution_count": 8,
   "metadata": {},
   "outputs": [
    {
     "data": {
      "application/vnd.jupyter.widget-view+json": {
       "model_id": "9c448bce31e94c6895db54eec7fa7a48",
       "version_major": 2,
       "version_minor": 0
      },
      "text/plain": [
       "VBox(children=(HTML(value=''), IntProgress(value=0, max=250)))"
      ]
     },
     "metadata": {},
     "output_type": "display_data"
    }
   ],
   "source": [
    "urls = urls_getter_fast(base_url)"
   ]
  },
  {
   "cell_type": "code",
   "execution_count": 9,
   "metadata": {},
   "outputs": [],
   "source": [
    "assert len(urls) == len(set(urls))"
   ]
  },
  {
   "cell_type": "code",
   "execution_count": 10,
   "metadata": {},
   "outputs": [
    {
     "name": "stdout",
     "output_type": "stream",
     "text": [
      "Число ссылок 5000\n"
     ]
    }
   ],
   "source": [
    "print('Число ссылок', len(set(urls)))"
   ]
  },
  {
   "cell_type": "code",
   "execution_count": 17,
   "metadata": {},
   "outputs": [],
   "source": [
    "import pickle"
   ]
  },
  {
   "cell_type": "code",
   "execution_count": 13,
   "metadata": {},
   "outputs": [],
   "source": [
    "with open('urls.pickle', 'wb') as f:\n",
    "    pickle.dump(urls, f)"
   ]
  },
  {
   "cell_type": "code",
   "execution_count": 18,
   "metadata": {},
   "outputs": [],
   "source": [
    "with open('urls.pickle', 'rb') as f:\n",
    "    urls = pickle.load(f)"
   ]
  },
  {
   "cell_type": "markdown",
   "metadata": {},
   "source": [
    "## 2. Получение информации о книгах"
   ]
  },
  {
   "cell_type": "code",
   "execution_count": 19,
   "metadata": {},
   "outputs": [],
   "source": [
    "def process_page(url):\n",
    "\n",
    "    page = get_page(url)\n",
    "    \n",
    "    if page is None:\n",
    "        raise BadPageError(f'Bad Page: cant get page')\n",
    "        \n",
    "    page_dict = {'url' : url}\n",
    "    \n",
    "    soup = BeautifulSoup(page.content, 'html.parser')\n",
    "    #main_block - центральная часть со всеми нужными параметрами\n",
    "    main_block = soup.find('div', class_='row bxr-page-content')\n",
    "    main_block = main_block.find('div', class_='row').find('div', class_='bxr-container-catalog-element')\n",
    "    main_block = main_block.find('div', class_='bxr-cloud-all')\n",
    "    \n",
    "    page_dict['Название'] = main_block.find('h1', itemprop='name').text\n",
    "    \n",
    "    page_dict['Метки'] = []\n",
    "    markers = main_block.find('div', class_='bxr-ribbon-marker-vertical')\n",
    "    markers = re.findall('\\w+', markers.text)\n",
    "    if markers: # если метки есть, то добавим\n",
    "        page_dict['Метки'] += markers\n",
    "    \n",
    "    page_dict['Иллюстрации'] = list(map(lambda x:'https:' + x.attrs['data-src'],\n",
    "                                        main_block.find_all('img', class_=\"bxr-zoom-img lazy\", itemprop='image')))\n",
    "    \n",
    "    ratings = main_block.find('div', class_='bxr-rating-detail') #блок с рейтингом\n",
    "    \n",
    "    ratValue = ratings.find('meta', itemprop='ratingValue')\n",
    "    ratCount = ratings.find('meta', itemprop='ratingCount')\n",
    "    \n",
    "    page_dict['Оценка'] = int(float(ratValue.attrs['content'])) if ratValue else 0\n",
    "    page_dict['Число голосов'] = int(float(ratCount.attrs['content'])) if ratCount else 0\n",
    "        \n",
    "    table = main_block.find('table', class_='bxr-props-table') #таблица\n",
    "    names = table.find_all('td', class_='bxr-props-name')\n",
    "    datas = table.find_all('td', class_='bxr-props-data')\n",
    "    loc_table = zip(names, datas)\n",
    "    \n",
    "    for row in loc_table:\n",
    "        name = row[0].text.strip()\n",
    "        data = row[1].text.strip()\n",
    "        \n",
    "        page_dict[row[0].text.strip()] = re.sub(r'\\s+', ' ', row[1].text.strip()) \n",
    "        if name == 'Издатель':\n",
    "            page_dict[name] = page_dict[name].replace('(сайт издательства)', '').strip() #в примерах его не было\n",
    "    \n",
    "    page_dict['Описание'] = re.sub(r'\\s+', ' ', main_block.find('div', class_='bxr-detail-tab-content').text.strip())\n",
    "    \n",
    "    page_dict['Наличие']  = main_block.find('div', itemprop='availability').text\n",
    "    \n",
    "    page_dict['Цена'] = float(main_block.find('meta', itemprop='price').attrs['content'])\n",
    "    \n",
    "    if 'ПТВ' in page_dict['Метки']:\n",
    "        scripts = soup.find_all('script') #стоимость со скидкой есть только в скрипте\n",
    "        ptv_script = list(filter(lambda x: 'var ptvSettings' in x.contents[0] if len(x.contents) > 0 else False ,\n",
    "                                 scripts))\n",
    "        pattern = re.compile('PRICE\"\\s*:\\s*(\\d+.?\\d+)')\n",
    "        if ptv_script:\n",
    "            page_dict['Цена (скидка)'] = float(re.findall(pattern, ptv_script[0].contents[0])[0])\n",
    "\n",
    "    for key in page_dict: # проверим что нет None'ов в словаре \n",
    "        if page_dict[key] is None:\n",
    "            raise BadPageError(f'Bad Parse: {key} field is None')\n",
    "    \n",
    "    return page_dict"
   ]
  },
  {
   "cell_type": "code",
   "execution_count": 20,
   "metadata": {},
   "outputs": [],
   "source": [
    "import gzip\n",
    "import json\n",
    "import codecs\n",
    "import sys\n",
    "\n",
    "from tqdm import tqdm\n",
    "from multiprocessing.dummy import Pool, Queue"
   ]
  },
  {
   "cell_type": "code",
   "execution_count": 21,
   "metadata": {},
   "outputs": [],
   "source": [
    "queue = Queue()   # очередь ссылок на книги"
   ]
  },
  {
   "cell_type": "code",
   "execution_count": 22,
   "metadata": {},
   "outputs": [],
   "source": [
    "for url in urls:\n",
    "    queue.put(url)"
   ]
  },
  {
   "cell_type": "code",
   "execution_count": 23,
   "metadata": {},
   "outputs": [
    {
     "data": {
      "text/plain": [
       "5000"
      ]
     },
     "execution_count": 23,
     "metadata": {},
     "output_type": "execute_result"
    }
   ],
   "source": [
    "queue.qsize()"
   ]
  },
  {
   "cell_type": "code",
   "execution_count": null,
   "metadata": {},
   "outputs": [
    {
     "name": "stderr",
     "output_type": "stream",
     "text": [
      "100%|█████████████████████████████████████████████████████████████████████████████▉| 4996/5000 [29:25<00:01,  3.22it/s]"
     ]
    }
   ],
   "source": [
    "def process_page_wrapper(i):\n",
    "    with gzip.open('data/part_{:05d}.jsonl.gz'.format(i), mode='wb') as f_json:\n",
    "        f_json = codecs.getwriter('utf8')(f_json)\n",
    "\n",
    "        while not queue.empty():\n",
    "            url = queue.get()\n",
    "            try:\n",
    "                record = process_page(url)\n",
    "            except Exception as e:\n",
    "                with lock:\n",
    "                    print(url, e, file=sys.stderr)\n",
    "                record = dict()\n",
    "\n",
    "            record_str = json.dumps(record, ensure_ascii=False)\n",
    "            print(record_str, file=f_json)\n",
    "\n",
    "            # счетчик должен атомарно обновиться\n",
    "            with lock:\n",
    "                pbar.update(1)\n",
    "\n",
    "\n",
    "with Pool(processes=8) as pool, tqdm(total=queue.qsize()) as pbar:\n",
    "    lock = pbar.get_lock()\n",
    "    pool.map(process_page_wrapper, range(pool._processes))"
   ]
  },
  {
   "cell_type": "markdown",
   "metadata": {},
   "source": [
    "## 3. Объединение результатов"
   ]
  },
  {
   "cell_type": "code",
   "execution_count": 1,
   "metadata": {},
   "outputs": [],
   "source": [
    "a = {}\n",
    "\n",
    "a[(1,2,3)] = 1"
   ]
  },
  {
   "cell_type": "code",
   "execution_count": 64,
   "metadata": {},
   "outputs": [],
   "source": [
    "import pandas as pd\n",
    "import os\n",
    "\n",
    "from itertools import chain         # рекомендуется использовать\n",
    "from contextlib import ExitStack    # рекомендуется использовать\n",
    "\n",
    "from typing import Generator, Dict, Any"
   ]
  },
  {
   "cell_type": "code",
   "execution_count": 82,
   "metadata": {},
   "outputs": [],
   "source": [
    "def records_reader(dirname: str) -> Generator[Dict[str, Any], None, None]:\n",
    "    filenames = os.listdir(dirname)\n",
    "\n",
    "    with ExitStack() as stack:\n",
    "        files = [stack.enter_context(gzip.open(f'data/part_0000{i}.jsonl.gz',\n",
    "                                               mode='rb')) for i in range(len(filenames))]\n",
    "        files = list(map(lambda file: codecs.getreader('utf8')(file), files))\n",
    "        \n",
    "        for record in chain(*files):\n",
    "            yield json.loads(record)\n",
    "\n",
    "\n",
    "df = pd.DataFrame(records_reader('data'))\n",
    "df['index'] = df.url.apply(lambda x: urls.index(x)) #добавим столбец - номер ссылки по счету\n",
    "df = df.sort_values(by = ['index']) # отсортируем, чтобы порядок был изначальный\n",
    "df = df.drop('index', axis = 1) # уберем столбец\n",
    "df.to_csv('hw_3.csv', index=False)"
   ]
  },
  {
   "cell_type": "code",
   "execution_count": 83,
   "metadata": {},
   "outputs": [
    {
     "data": {
      "text/html": [
       "<div>\n",
       "<style scoped>\n",
       "    .dataframe tbody tr th:only-of-type {\n",
       "        vertical-align: middle;\n",
       "    }\n",
       "\n",
       "    .dataframe tbody tr th {\n",
       "        vertical-align: top;\n",
       "    }\n",
       "\n",
       "    .dataframe thead th {\n",
       "        text-align: right;\n",
       "    }\n",
       "</style>\n",
       "<table border=\"1\" class=\"dataframe\">\n",
       "  <thead>\n",
       "    <tr style=\"text-align: right;\">\n",
       "      <th></th>\n",
       "      <th>url</th>\n",
       "      <th>Название</th>\n",
       "      <th>Метки</th>\n",
       "      <th>Иллюстрации</th>\n",
       "      <th>Оценка</th>\n",
       "      <th>Число голосов</th>\n",
       "      <th>ISBN</th>\n",
       "      <th>Издатель</th>\n",
       "      <th>Автор</th>\n",
       "      <th>Язык</th>\n",
       "      <th>...</th>\n",
       "      <th>Размер (мм)</th>\n",
       "      <th>Описание</th>\n",
       "      <th>Наличие</th>\n",
       "      <th>Цена</th>\n",
       "      <th>Серия</th>\n",
       "      <th>Носитель</th>\n",
       "      <th>Читательская аудитория</th>\n",
       "      <th>Цена (скидка)</th>\n",
       "      <th>Тип продукта</th>\n",
       "      <th>Издание</th>\n",
       "    </tr>\n",
       "  </thead>\n",
       "  <tbody>\n",
       "    <tr>\n",
       "      <th>0</th>\n",
       "      <td>https://shop.relod.ru/catalog-products/the_cas...</td>\n",
       "      <td>The Casual Vacancy</td>\n",
       "      <td>[]</td>\n",
       "      <td>[https://opt-1458870.ssl.1c-bitrix-cdn.ru/uplo...</td>\n",
       "      <td>4</td>\n",
       "      <td>2</td>\n",
       "      <td>9780751552867</td>\n",
       "      <td>Sphere</td>\n",
       "      <td>Rowling J.K.</td>\n",
       "      <td>English</td>\n",
       "      <td>...</td>\n",
       "      <td>198(д) х 153(ш) х 38(в)</td>\n",
       "      <td>Когда Барри Фэйрбразер умирает в начале сороко...</td>\n",
       "      <td>В наличии</td>\n",
       "      <td>892.0</td>\n",
       "      <td>NaN</td>\n",
       "      <td>NaN</td>\n",
       "      <td>NaN</td>\n",
       "      <td>NaN</td>\n",
       "      <td>NaN</td>\n",
       "      <td>NaN</td>\n",
       "    </tr>\n",
       "    <tr>\n",
       "      <th>614</th>\n",
       "      <td>https://shop.relod.ru/catalog-products/zorro/</td>\n",
       "      <td>Zorro</td>\n",
       "      <td>[Sale, ПТВ]</td>\n",
       "      <td>[https://opt-1458870.ssl.1c-bitrix-cdn.ru/uplo...</td>\n",
       "      <td>3</td>\n",
       "      <td>6</td>\n",
       "      <td>9780007201983</td>\n",
       "      <td>Harper Collins</td>\n",
       "      <td>Allende Isabel</td>\n",
       "      <td>English</td>\n",
       "      <td>...</td>\n",
       "      <td>198(д) х 129(ш) х 27(в)</td>\n",
       "      <td>Bestselling author Isabel Allende's first adul...</td>\n",
       "      <td>В наличии</td>\n",
       "      <td>182.0</td>\n",
       "      <td>NaN</td>\n",
       "      <td>NaN</td>\n",
       "      <td>General (US: Trade)</td>\n",
       "      <td>145.6</td>\n",
       "      <td>NaN</td>\n",
       "      <td>NaN</td>\n",
       "    </tr>\n",
       "    <tr>\n",
       "      <th>1234</th>\n",
       "      <td>https://shop.relod.ru/catalog-products/wives_a...</td>\n",
       "      <td>Wives and Daughters</td>\n",
       "      <td>[Sale]</td>\n",
       "      <td>[https://opt-1458870.ssl.1c-bitrix-cdn.ru/uplo...</td>\n",
       "      <td>5</td>\n",
       "      <td>1</td>\n",
       "      <td>9780199538263</td>\n",
       "      <td>Oxford University Press</td>\n",
       "      <td>Gaskell Elizabeth</td>\n",
       "      <td>English</td>\n",
       "      <td>...</td>\n",
       "      <td>195(д) х 128(ш) х 36(в)</td>\n",
       "      <td>Wives and Daughters, Elizabeth Gaskell's last ...</td>\n",
       "      <td>Под заказ</td>\n",
       "      <td>139.0</td>\n",
       "      <td>OWC (Oxford World Classics)</td>\n",
       "      <td>NaN</td>\n",
       "      <td>NaN</td>\n",
       "      <td>NaN</td>\n",
       "      <td>NaN</td>\n",
       "      <td>NaN</td>\n",
       "    </tr>\n",
       "    <tr>\n",
       "      <th>4388</th>\n",
       "      <td>https://shop.relod.ru/catalog-products/the_sil...</td>\n",
       "      <td>The Silmarillion</td>\n",
       "      <td>[]</td>\n",
       "      <td>[https://opt-1458870.ssl.1c-bitrix-cdn.ru/uplo...</td>\n",
       "      <td>5</td>\n",
       "      <td>1</td>\n",
       "      <td>9780261102736</td>\n",
       "      <td>Harper Collins</td>\n",
       "      <td>Tolkien J.R.R.</td>\n",
       "      <td>English</td>\n",
       "      <td>...</td>\n",
       "      <td>178(д) х 111(ш) х 29(в)</td>\n",
       "      <td>Designed to take fans of The Hobbit and The Lo...</td>\n",
       "      <td>Под заказ</td>\n",
       "      <td>678.0</td>\n",
       "      <td>NaN</td>\n",
       "      <td>NaN</td>\n",
       "      <td>NaN</td>\n",
       "      <td>NaN</td>\n",
       "      <td>NaN</td>\n",
       "      <td>NaN</td>\n",
       "    </tr>\n",
       "    <tr>\n",
       "      <th>1857</th>\n",
       "      <td>https://shop.relod.ru/catalog-products/the_ess...</td>\n",
       "      <td>The Essential Tales of Chekhov</td>\n",
       "      <td>[]</td>\n",
       "      <td>[https://opt-1458870.ssl.1c-bitrix-cdn.ru/uplo...</td>\n",
       "      <td>5</td>\n",
       "      <td>1</td>\n",
       "      <td>9781862073005</td>\n",
       "      <td>Granta</td>\n",
       "      <td>Chekhov Anton</td>\n",
       "      <td>English</td>\n",
       "      <td>...</td>\n",
       "      <td>198(д) х 129(ш) х 26(в)</td>\n",
       "      <td>In this collection of 20 short stories, the ed...</td>\n",
       "      <td>В наличии</td>\n",
       "      <td>969.0</td>\n",
       "      <td>NaN</td>\n",
       "      <td>NaN</td>\n",
       "      <td>NaN</td>\n",
       "      <td>NaN</td>\n",
       "      <td>NaN</td>\n",
       "      <td>NaN</td>\n",
       "    </tr>\n",
       "  </tbody>\n",
       "</table>\n",
       "<p>5 rows × 28 columns</p>\n",
       "</div>"
      ],
      "text/plain": [
       "                                                    url  \\\n",
       "0     https://shop.relod.ru/catalog-products/the_cas...   \n",
       "614       https://shop.relod.ru/catalog-products/zorro/   \n",
       "1234  https://shop.relod.ru/catalog-products/wives_a...   \n",
       "4388  https://shop.relod.ru/catalog-products/the_sil...   \n",
       "1857  https://shop.relod.ru/catalog-products/the_ess...   \n",
       "\n",
       "                            Название        Метки  \\\n",
       "0                 The Casual Vacancy           []   \n",
       "614                            Zorro  [Sale, ПТВ]   \n",
       "1234             Wives and Daughters       [Sale]   \n",
       "4388                The Silmarillion           []   \n",
       "1857  The Essential Tales of Chekhov           []   \n",
       "\n",
       "                                            Иллюстрации  Оценка  \\\n",
       "0     [https://opt-1458870.ssl.1c-bitrix-cdn.ru/uplo...       4   \n",
       "614   [https://opt-1458870.ssl.1c-bitrix-cdn.ru/uplo...       3   \n",
       "1234  [https://opt-1458870.ssl.1c-bitrix-cdn.ru/uplo...       5   \n",
       "4388  [https://opt-1458870.ssl.1c-bitrix-cdn.ru/uplo...       5   \n",
       "1857  [https://opt-1458870.ssl.1c-bitrix-cdn.ru/uplo...       5   \n",
       "\n",
       "      Число голосов           ISBN                 Издатель  \\\n",
       "0                 2  9780751552867                   Sphere   \n",
       "614               6  9780007201983           Harper Collins   \n",
       "1234              1  9780199538263  Oxford University Press   \n",
       "4388              1  9780261102736           Harper Collins   \n",
       "1857              1  9781862073005                   Granta   \n",
       "\n",
       "                  Автор     Язык  ...              Размер (мм)  \\\n",
       "0          Rowling J.K.  English  ...  198(д) х 153(ш) х 38(в)   \n",
       "614      Allende Isabel  English  ...  198(д) х 129(ш) х 27(в)   \n",
       "1234  Gaskell Elizabeth  English  ...  195(д) х 128(ш) х 36(в)   \n",
       "4388     Tolkien J.R.R.  English  ...  178(д) х 111(ш) х 29(в)   \n",
       "1857      Chekhov Anton  English  ...  198(д) х 129(ш) х 26(в)   \n",
       "\n",
       "                                               Описание    Наличие   Цена  \\\n",
       "0     Когда Барри Фэйрбразер умирает в начале сороко...  В наличии  892.0   \n",
       "614   Bestselling author Isabel Allende's first adul...  В наличии  182.0   \n",
       "1234  Wives and Daughters, Elizabeth Gaskell's last ...  Под заказ  139.0   \n",
       "4388  Designed to take fans of The Hobbit and The Lo...  Под заказ  678.0   \n",
       "1857  In this collection of 20 short stories, the ed...  В наличии  969.0   \n",
       "\n",
       "                            Серия Носитель Читательская аудитория  \\\n",
       "0                             NaN      NaN                    NaN   \n",
       "614                           NaN      NaN    General (US: Trade)   \n",
       "1234  OWC (Oxford World Classics)      NaN                    NaN   \n",
       "4388                          NaN      NaN                    NaN   \n",
       "1857                          NaN      NaN                    NaN   \n",
       "\n",
       "     Цена (скидка) Тип продукта Издание  \n",
       "0              NaN          NaN     NaN  \n",
       "614          145.6          NaN     NaN  \n",
       "1234           NaN          NaN     NaN  \n",
       "4388           NaN          NaN     NaN  \n",
       "1857           NaN          NaN     NaN  \n",
       "\n",
       "[5 rows x 28 columns]"
      ]
     },
     "execution_count": 83,
     "metadata": {},
     "output_type": "execute_result"
    }
   ],
   "source": [
    "df.head()"
   ]
  },
  {
   "cell_type": "code",
   "execution_count": 7,
   "metadata": {},
   "outputs": [],
   "source": [
    "def f():\n",
    "    try:\n",
    "        print('a')\n",
    "    except:\n",
    "        print('b')\n",
    "    else:\n",
    "        print('c')\n",
    "        return None\n",
    "    \n",
    "    print('d')"
   ]
  },
  {
   "cell_type": "code",
   "execution_count": 8,
   "metadata": {},
   "outputs": [
    {
     "name": "stdout",
     "output_type": "stream",
     "text": [
      "a\n",
      "c\n"
     ]
    }
   ],
   "source": [
    "f()"
   ]
  },
  {
   "cell_type": "code",
   "execution_count": null,
   "metadata": {},
   "outputs": [],
   "source": []
  }
 ],
 "metadata": {
  "kernelspec": {
   "display_name": "Python 3",
   "language": "python",
   "name": "python3"
  },
  "language_info": {
   "codemirror_mode": {
    "name": "ipython",
    "version": 3
   },
   "file_extension": ".py",
   "mimetype": "text/x-python",
   "name": "python",
   "nbconvert_exporter": "python",
   "pygments_lexer": "ipython3",
   "version": "3.6.10"
  }
 },
 "nbformat": 4,
 "nbformat_minor": 4
}
