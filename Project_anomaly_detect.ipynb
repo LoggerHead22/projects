{
 "cells": [
  {
   "cell_type": "code",
   "execution_count": 1,
   "metadata": {},
   "outputs": [],
   "source": [
    "from bs4 import BeautifulSoup\n",
    "import codecs\n",
    "import re\n",
    "import string\n",
    "import Stemmer\n",
    "import json"
   ]
  },
  {
   "cell_type": "code",
   "execution_count": 2,
   "metadata": {},
   "outputs": [],
   "source": [
    "from nltk.corpus import stopwords\n",
    "from nltk.tokenize import word_tokenize\n",
    "from nltk.stem.porter import PorterStemmer\n",
    "from nltk.stem import WordNetLemmatizer"
   ]
  },
  {
   "cell_type": "code",
   "execution_count": 51,
   "metadata": {},
   "outputs": [
    {
     "name": "stderr",
     "output_type": "stream",
     "text": [
      "[nltk_data] Downloading package stopwords to\n",
      "[nltk_data]     C:\\Users\\Logge\\AppData\\Roaming\\nltk_data...\n",
      "[nltk_data]   Package stopwords is already up-to-date!\n",
      "[nltk_data] Downloading package punkt to\n",
      "[nltk_data]     C:\\Users\\Logge\\AppData\\Roaming\\nltk_data...\n",
      "[nltk_data]   Package punkt is already up-to-date!\n",
      "[nltk_data] Downloading package wordnet to\n",
      "[nltk_data]     C:\\Users\\Logge\\AppData\\Roaming\\nltk_data...\n",
      "[nltk_data]   Unzipping corpora\\wordnet.zip.\n"
     ]
    },
    {
     "data": {
      "text/plain": [
       "True"
      ]
     },
     "execution_count": 51,
     "metadata": {},
     "output_type": "execute_result"
    }
   ],
   "source": [
    "import nltk\n",
    "nltk.download('stopwords')\n",
    "nltk.download('punkt')\n",
    "nltk.download('wordnet')"
   ]
  },
  {
   "cell_type": "markdown",
   "metadata": {},
   "source": [
    "# Обработка данных"
   ]
  },
  {
   "cell_type": "code",
   "execution_count": 52,
   "metadata": {},
   "outputs": [],
   "source": [
    "def remove_punctuation(text):\n",
    "    translator = str.maketrans('', '', string.punctuation)\n",
    "    return text.translate(translator)"
   ]
  },
  {
   "cell_type": "markdown",
   "metadata": {},
   "source": [
    "1. Убрали стоп слова, цифры, пунктуацию.\n",
    "2. Сделали стекинг"
   ]
  },
  {
   "cell_type": "code",
   "execution_count": 153,
   "metadata": {},
   "outputs": [],
   "source": [
    "def process_text(text, stemmer):\n",
    "    text_proc = text.lower()\n",
    "    text_proc = re.sub(r'\\d+', '', text_proc)\n",
    "    \n",
    "    text_list = re.findall(r'\\w+', text_proc)\n",
    "    \n",
    "    stop_words_rus = set(stopwords.words(\"russian\"))\n",
    "    filtered_text = [word for word in text_list if word not in stop_words_rus]\n",
    "    \n",
    "    stems = [stemmer.stemWord(word) for word in filtered_text if len(word) > 1]\n",
    "    \n",
    "    return stems"
   ]
  },
  {
   "cell_type": "code",
   "execution_count": 154,
   "metadata": {},
   "outputs": [],
   "source": [
    "def process_page(path, filename):\n",
    "    with codecs.open(path + filename, 'r', 'utf-8') as f:\n",
    "        url = f.readline().strip()\n",
    "        page = BeautifulSoup(f, 'lxml')\n",
    "        \n",
    "        title = page.title.text\n",
    "        text = page.body.text\n",
    "\n",
    "        stemmer = Stemmer.Stemmer('russian')\n",
    "\n",
    "        title_proc = process_text(title, stemmer)\n",
    "        text_proc = process_text(text, stemmer)\n",
    "\n",
    "    return {'doc_id': int(filename.split('.')[0]), \n",
    "            'title': \" \".join(title_proc), \n",
    "            'text': \" \".join(text_proc)}"
   ]
  },
  {
   "cell_type": "code",
   "execution_count": 155,
   "metadata": {},
   "outputs": [],
   "source": [
    "import gzip\n",
    "import json\n",
    "import codecs\n",
    "import sys\n",
    "import os\n",
    "\n",
    "from tqdm import tqdm\n",
    "from multiprocessing.dummy import Pool, Queue"
   ]
  },
  {
   "cell_type": "code",
   "execution_count": 156,
   "metadata": {},
   "outputs": [],
   "source": [
    "path = 'content/'"
   ]
  },
  {
   "cell_type": "code",
   "execution_count": 157,
   "metadata": {},
   "outputs": [
    {
     "data": {
      "text/plain": [
       "28026"
      ]
     },
     "execution_count": 157,
     "metadata": {},
     "output_type": "execute_result"
    }
   ],
   "source": [
    "queue = Queue()   # очередь ссылок на книги\n",
    "\n",
    "for filename in os.listdir(path):\n",
    "    queue.put(filename)\n",
    "\n",
    "queue.qsize()"
   ]
  },
  {
   "cell_type": "code",
   "execution_count": 158,
   "metadata": {},
   "outputs": [
    {
     "name": "stderr",
     "output_type": "stream",
     "text": [
      " 13%|█████████▌                                                                 | 3552/28026 [09:24<1:04:06,  6.36it/s]13200.dat 'NoneType' object has no attribute 'text'\n",
      " 87%|████████████████████████████████████████████████████████████████▎         | 24346/28026 [1:11:56<19:14,  3.19it/s]6693.dat 'NoneType' object has no attribute 'text'\n",
      " 89%|█████████████████████████████████████████████████████████████████▌        | 24833/28026 [1:13:20<08:52,  5.99it/s]7130.dat 'NoneType' object has no attribute 'text'\n",
      " 97%|████████████████████████████████████████████████████████████████████████  | 27279/28026 [1:20:53<02:53,  4.31it/s]9332.dat 'NoneType' object has no attribute 'text'\n",
      "100%|██████████████████████████████████████████████████████████████████████████| 28026/28026 [1:23:24<00:00,  5.60it/s]\n"
     ]
    }
   ],
   "source": [
    "def process_page_wrapper(i):\n",
    "    with gzip.open('data_processed/part_{:05d}.jsonl.gz'.format(i), mode='wb') as f_json:\n",
    "        f_json = codecs.getwriter('utf8')(f_json)\n",
    "\n",
    "        while not queue.empty():\n",
    "            filename = queue.get()\n",
    "            try:\n",
    "                record = process_page(path, filename)\n",
    "            except Exception as e:\n",
    "                with lock:\n",
    "                    print(filename, e, file=sys.stderr)\n",
    "                record = dict()\n",
    "\n",
    "            record_str = json.dumps(record, ensure_ascii=False)\n",
    "            print(record_str, file=f_json)\n",
    "\n",
    "            # счетчик должен атомарно обновиться\n",
    "            with lock:\n",
    "                pbar.update(1)\n",
    "\n",
    "with Pool(processes=8) as pool, tqdm(total=queue.qsize()) as pbar:\n",
    "    lock = pbar.get_lock()\n",
    "    pool.map(process_page_wrapper, range(pool._processes))"
   ]
  },
  {
   "cell_type": "code",
   "execution_count": 159,
   "metadata": {},
   "outputs": [],
   "source": [
    "import pandas as pd\n",
    "import os\n",
    "\n",
    "from itertools import chain         # рекомендуется использовать\n",
    "from contextlib import ExitStack    # рекомендуется использовать\n",
    "\n",
    "from typing import Generator, Dict, Any"
   ]
  },
  {
   "cell_type": "code",
   "execution_count": 160,
   "metadata": {},
   "outputs": [],
   "source": [
    "def records_reader(dirname):\n",
    "    filenames = os.listdir(dirname)\n",
    "\n",
    "    with ExitStack() as stack:\n",
    "        files = [stack.enter_context(gzip.open(f'data_processed/part_0000{i}.jsonl.gz',\n",
    "                                               mode='rb')) for i in range(len(filenames))]\n",
    "        files = list(map(lambda file: codecs.getreader('utf8')(file), files))\n",
    "        \n",
    "        for record in chain(*files):\n",
    "            yield json.loads(record)"
   ]
  },
  {
   "cell_type": "code",
   "execution_count": 161,
   "metadata": {},
   "outputs": [],
   "source": [
    "df = pd.DataFrame(records_reader('data_processed'))"
   ]
  },
  {
   "cell_type": "code",
   "execution_count": 185,
   "metadata": {},
   "outputs": [],
   "source": [
    "df.doc_id = df.doc_id.astype(int)"
   ]
  },
  {
   "cell_type": "markdown",
   "metadata": {},
   "source": [
    "Получили такой датасет."
   ]
  },
  {
   "cell_type": "code",
   "execution_count": 186,
   "metadata": {},
   "outputs": [
    {
     "data": {
      "text/html": [
       "<div>\n",
       "<style scoped>\n",
       "    .dataframe tbody tr th:only-of-type {\n",
       "        vertical-align: middle;\n",
       "    }\n",
       "\n",
       "    .dataframe tbody tr th {\n",
       "        vertical-align: top;\n",
       "    }\n",
       "\n",
       "    .dataframe thead th {\n",
       "        text-align: right;\n",
       "    }\n",
       "</style>\n",
       "<table border=\"1\" class=\"dataframe\">\n",
       "  <thead>\n",
       "    <tr style=\"text-align: right;\">\n",
       "      <th></th>\n",
       "      <th>doc_id</th>\n",
       "      <th>title</th>\n",
       "      <th>text</th>\n",
       "    </tr>\n",
       "  </thead>\n",
       "  <tbody>\n",
       "    <tr>\n",
       "      <th>0</th>\n",
       "      <td>1</td>\n",
       "      <td>аншин центр репродукц генетик фертимед москв</td>\n",
       "      <td>аншин центр репродукц генетик фертимед москв с...</td>\n",
       "    </tr>\n",
       "    <tr>\n",
       "      <th>1</th>\n",
       "      <td>10008</td>\n",
       "      <td>беремен пар ног простуд простуд беремен bereme...</td>\n",
       "      <td>главн контакт простуд беремен беремен пар ног ...</td>\n",
       "    </tr>\n",
       "    <tr>\n",
       "      <th>2</th>\n",
       "      <td>10010</td>\n",
       "      <td>плед техник печворк бабочк готов подкладк друг...</td>\n",
       "      <td>войт регистрац напомн парол войт запомн начн н...</td>\n",
       "    </tr>\n",
       "    <tr>\n",
       "      <th>3</th>\n",
       "      <td>10034</td>\n",
       "      <td>наук финансов прав ярославск демидовск лиц</td>\n",
       "      <td>денежн обращен финанс кред основ финанс pravo ...</td>\n",
       "    </tr>\n",
       "    <tr>\n",
       "      <th>4</th>\n",
       "      <td>1004</td>\n",
       "      <td>пониз холестерин кров домашн услов быстр эффек...</td>\n",
       "      <td>норм кров расшифровк кров сдат кров калькулято...</td>\n",
       "    </tr>\n",
       "  </tbody>\n",
       "</table>\n",
       "</div>"
      ],
      "text/plain": [
       "   doc_id                                              title  \\\n",
       "0       1       аншин центр репродукц генетик фертимед москв   \n",
       "1   10008  беремен пар ног простуд простуд беремен bereme...   \n",
       "2   10010  плед техник печворк бабочк готов подкладк друг...   \n",
       "3   10034         наук финансов прав ярославск демидовск лиц   \n",
       "4    1004  пониз холестерин кров домашн услов быстр эффек...   \n",
       "\n",
       "                                                text  \n",
       "0  аншин центр репродукц генетик фертимед москв с...  \n",
       "1  главн контакт простуд беремен беремен пар ног ...  \n",
       "2  войт регистрац напомн парол войт запомн начн н...  \n",
       "3  денежн обращен финанс кред основ финанс pravo ...  \n",
       "4  норм кров расшифровк кров сдат кров калькулято...  "
      ]
     },
     "execution_count": 186,
     "metadata": {},
     "output_type": "execute_result"
    }
   ],
   "source": [
    "df.head()"
   ]
  },
  {
   "cell_type": "code",
   "execution_count": 179,
   "metadata": {},
   "outputs": [],
   "source": [
    "df.loc[df.doc_id.isnull()] = [[13200, '', ''], [6693, '', ''], [7130, '', ''], [9332, '', '']]"
   ]
  },
  {
   "cell_type": "code",
   "execution_count": 187,
   "metadata": {},
   "outputs": [],
   "source": [
    "df = df.sort_values(by = 'doc_id')\n",
    "df.to_csv('data_processed.csv', index=False, sep=';')"
   ]
  },
  {
   "cell_type": "code",
   "execution_count": 188,
   "metadata": {},
   "outputs": [],
   "source": [
    "df = None"
   ]
  },
  {
   "cell_type": "markdown",
   "metadata": {},
   "source": [
    "# Построение признаков"
   ]
  },
  {
   "cell_type": "code",
   "execution_count": 10,
   "metadata": {},
   "outputs": [],
   "source": [
    "from collections import Counter\n",
    "import pandas as pd"
   ]
  },
  {
   "cell_type": "markdown",
   "metadata": {},
   "source": [
    "Признаки: \n",
    "\n",
    "    1. Топ N - пересечений для заголовков.\n",
    "    2. Топ N - пересечений для текстов.\n",
    "    3. Взяли title_M - популярных слов из заголовков группы, и посмотрели, какие из них (и сколько встречаются) в тексте.\n",
    "    4. Аналогично для текстов.\n",
    "    5. Взяли популярные слова группы, популярные слова текста и нашли мощность пересечение."
   ]
  },
  {
   "cell_type": "code",
   "execution_count": 218,
   "metadata": {},
   "outputs": [],
   "source": [
    "def count_intersect_words(docs, N=20, title_M=10, text_M=25):\n",
    "    X_temp = []\n",
    "    \n",
    "    title_counter = Counter()\n",
    "    text_counter = Counter()\n",
    "    \n",
    "    #for k, (doc_id, title, count_text, target_id) in enumerate(docs):   #train\n",
    "    \n",
    "    for k, (doc_id, title, count_text) in enumerate(docs):  #test\n",
    "        all_dist_title = []\n",
    "        all_dist_text = []\n",
    "        \n",
    "        doc_title = title.strip().split()\n",
    "        #doc_text = text.strip().split()\n",
    "        \n",
    "        title_counter.update(doc_title)\n",
    "        text_counter.update({pair[0] : pair[1] for pair in count_text})\n",
    "        \n",
    "        words_title = set(doc_title)\n",
    "        words_text = set([pair[0] for pair in count_text])\n",
    "        \n",
    "        for j in range(0, len(docs)):\n",
    "            if k == j:\n",
    "                continue\n",
    "            #doc_id_j, title_j, count_text_j, target_j = docs[j] #train\n",
    "            doc_id_j, title_j, count_text_j = docs[j]           #test\n",
    "            \n",
    "            words_title_j = set(title_j.strip().split())\n",
    "            words_text_j = set([pair[0] for pair in count_text_j])\n",
    "            \n",
    "            all_dist_title.append(len(words_title.intersection(words_title_j)))\n",
    "            all_dist_text.append(len(words_text.intersection(words_text_j)))\n",
    "            \n",
    "        X_temp.append(sorted(all_dist_title, reverse=True)[0:N] + sorted(all_dist_text, reverse=True)[0:N])\n",
    "        \n",
    "    title_most_common = title_counter.most_common(title_M)\n",
    "    title_most_common_set = set([pair[0] for pair in title_most_common])\n",
    "    \n",
    "    text_most_common = text_counter.most_common(text_M)\n",
    "    text_most_common_set = set([pair[0] for pair in text_most_common])\n",
    "    \n",
    "    #for k, (doc_id, title, count_text, target_id) in enumerate(docs):   #train\n",
    "    for k, (doc_id, title, count_text) in enumerate(docs):  #test\n",
    "        \n",
    "        doc_counter = Counter(title.strip().split())\n",
    "        doc_title_most_common_set = set([pair[0] for pair in doc_counter.most_common(title_M)])\n",
    "    \n",
    "        doc_count_title = list([doc_counter.get(word[0]) if doc_counter.get(word[0]) is not None else 0\n",
    "                                for word in title_most_common])\n",
    "        \n",
    "        inter_title_1 = len(set(doc_counter).intersection(title_most_common_set))\n",
    "        inter_title_2 = len(doc_title_most_common_set.intersection(title_most_common_set))\n",
    "        \n",
    "        doc_counter.clear()\n",
    "        doc_counter.update({pair[0] : pair[1] for pair in count_text})\n",
    "        doc_count_text = list([doc_counter.get(word[0]) if doc_counter.get(word[0]) is not None else 0\n",
    "                               for word in text_most_common ])\n",
    "        \n",
    "        doc_text_most_common_set = set([pair[0] for pair in doc_counter.most_common(text_M)])\n",
    "        \n",
    "        inter_text_1 = len(set(doc_counter).intersection(text_most_common_set))\n",
    "        inter_text_2 = len(doc_text_most_common_set.intersection(text_most_common_set))\n",
    "\n",
    "        X_temp[k] += doc_count_title + doc_count_text + [inter_title_1, inter_title_2,\n",
    "                                                         inter_text_1, inter_text_2]\n",
    "        \n",
    "    return X_temp"
   ]
  },
  {
   "cell_type": "code",
   "execution_count": 151,
   "metadata": {},
   "outputs": [
    {
     "name": "stdout",
     "output_type": "stream",
     "text": [
      "28026\n"
     ]
    }
   ],
   "source": [
    "doc_to_title = {}\n",
    "with open('data_processed.csv', encoding='utf-8') as f:\n",
    "    for num_line, line in enumerate(f):\n",
    "        if num_line == 0:\n",
    "            continue\n",
    "        data = line.strip().split(';')\n",
    "        doc_id = int(data[0])\n",
    "        if len(data) == 1:\n",
    "            title = ''\n",
    "        else:\n",
    "            count_text = Counter(data[2].strip().split()).most_common(60)\n",
    "            title = data[1]\n",
    "        doc_to_title[doc_id] = [title, count_text]\n",
    "print(len(doc_to_title))"
   ]
  },
  {
   "cell_type": "markdown",
   "metadata": {},
   "source": [
    "Загружили заголовки и самые популярные слова из текстов."
   ]
  },
  {
   "cell_type": "code",
   "execution_count": 152,
   "metadata": {},
   "outputs": [
    {
     "data": {
      "text/plain": [
       "['аншин центр репродукц генетик фертимед москв',\n",
       " [('щитовидн', 56),\n",
       "  ('желез', 56),\n",
       "  ('определен', 34),\n",
       "  ('гормон', 34),\n",
       "  ('кров', 33),\n",
       "  ('лабораторн', 31),\n",
       "  ('анализ', 31),\n",
       "  ('гормональн', 30),\n",
       "  ('бесплод', 29),\n",
       "  ('гиперфункц', 28),\n",
       "  ('клиническ', 27),\n",
       "  ('лг', 25),\n",
       "  ('эндокрин', 24),\n",
       "  ('ошибк', 24),\n",
       "  ('нарушен', 24),\n",
       "  ('гипофункц', 23),\n",
       "  ('пациентк', 22),\n",
       "  ('фсг', 21),\n",
       "  ('исследован', 21),\n",
       "  ('больн', 20),\n",
       "  ('котор', 20),\n",
       "  ('явля', 19),\n",
       "  ('цикл', 19),\n",
       "  ('содержан', 18),\n",
       "  ('диагностик', 17),\n",
       "  ('прл', 17),\n",
       "  ('признак', 16),\n",
       "  ('уровн', 16),\n",
       "  ('результат', 16),\n",
       "  ('дан', 16),\n",
       "  ('норм', 16),\n",
       "  ('эстрадиол', 15),\n",
       "  ('случа', 15),\n",
       "  ('ттг', 15),\n",
       "  ('гиперандроген', 15),\n",
       "  ('показан', 14),\n",
       "  ('врач', 14),\n",
       "  ('повышен', 14),\n",
       "  ('уровен', 14),\n",
       "  ('налич', 13),\n",
       "  ('оценк', 13),\n",
       "  ('лечен', 12),\n",
       "  ('одн', 12),\n",
       "  ('взят', 12),\n",
       "  ('кс', 12),\n",
       "  ('симптом', 12),\n",
       "  ('поскольк', 11),\n",
       "  ('отсутств', 11),\n",
       "  ('функц', 11),\n",
       "  ('утр', 11),\n",
       "  ('друг', 11),\n",
       "  ('гипотез', 10),\n",
       "  ('никак', 10),\n",
       "  ('стг', 10),\n",
       "  ('кортизол', 10),\n",
       "  ('гипокортицизм', 10),\n",
       "  ('гиперкортицизм', 10),\n",
       "  ('генетик', 9),\n",
       "  ('подозрен', 9),\n",
       "  ('причин', 9)]]"
      ]
     },
     "execution_count": 152,
     "metadata": {},
     "output_type": "execute_result"
    }
   ],
   "source": [
    "doc_to_title[1]"
   ]
  },
  {
   "cell_type": "code",
   "execution_count": 214,
   "metadata": {},
   "outputs": [],
   "source": [
    "train_data = pd.read_csv('data/train_groups.csv')\n",
    "traingroups_titledata = {}\n",
    "for i in range(len(train_data)):\n",
    "    new_doc = train_data.iloc[i]\n",
    "    doc_group = new_doc['group_id']\n",
    "    doc_id = new_doc['doc_id']\n",
    "    target = new_doc['target']\n",
    "    title = doc_to_title[doc_id][0]\n",
    "    count_text = doc_to_title[doc_id][1]\n",
    "    if doc_group not in traingroups_titledata:\n",
    "        traingroups_titledata[doc_group] = []\n",
    "    traingroups_titledata[doc_group].append((doc_id, title, count_text, target))"
   ]
  },
  {
   "cell_type": "code",
   "execution_count": 215,
   "metadata": {},
   "outputs": [],
   "source": [
    "test_data = pd.read_csv('data/test_groups.csv')"
   ]
  },
  {
   "cell_type": "code",
   "execution_count": 216,
   "metadata": {},
   "outputs": [],
   "source": [
    "testgroups_titledata = {}\n",
    "for i in range(len(test_data)):\n",
    "    new_doc = test_data.iloc[i]\n",
    "    doc_group = new_doc['group_id']\n",
    "    doc_id = new_doc['doc_id']\n",
    "    \n",
    "    title = doc_to_title[doc_id][0]\n",
    "    count_text = doc_to_title[doc_id][1]\n",
    "    \n",
    "    if doc_group not in testgroups_titledata:\n",
    "        testgroups_titledata[doc_group] = []\n",
    "    testgroups_titledata[doc_group].append((doc_id, title, count_text))"
   ]
  },
  {
   "cell_type": "code",
   "execution_count": 217,
   "metadata": {},
   "outputs": [
    {
     "name": "stdout",
     "output_type": "stream",
     "text": [
      "(11690, 79) (11690,) (11690,)\n"
     ]
    }
   ],
   "source": [
    "import numpy as np\n",
    "y_train = []\n",
    "X_train = []\n",
    "groups_train = []\n",
    "\n",
    "for new_group in traingroups_titledata:\n",
    "    docs = traingroups_titledata[new_group]\n",
    "    for k, (doc_id, title, count_text, target_id) in enumerate(docs):\n",
    "        y_train.append(target_id)\n",
    "        groups_train.append(new_group)\n",
    "    X_train += count_intersect_words(docs)\n",
    "    \n",
    "X_train = np.array(X_train)\n",
    "y_train = np.array(y_train)\n",
    "groups_train = np.array(groups_train)\n",
    "print(X_train.shape, y_train.shape, groups_train.shape)"
   ]
  },
  {
   "cell_type": "code",
   "execution_count": 220,
   "metadata": {},
   "outputs": [],
   "source": [
    "np.savetxt('X_train.txt', X_train)"
   ]
  },
  {
   "cell_type": "code",
   "execution_count": 219,
   "metadata": {},
   "outputs": [
    {
     "name": "stdout",
     "output_type": "stream",
     "text": [
      "(16627, 79) (16627,)\n"
     ]
    }
   ],
   "source": [
    "X_test = []\n",
    "groups_test = []\n",
    "for new_group in testgroups_titledata:\n",
    "    docs = testgroups_titledata[new_group]\n",
    "    for k, (doc_id, title, count_text) in enumerate(docs):\n",
    "        groups_test.append(new_group)\n",
    "    X_test += count_intersect_words(docs)\n",
    "        \n",
    "X_test = np.array(X_test)\n",
    "groups_test = np.array(groups_test)\n",
    "print(X_test.shape, groups_test.shape)"
   ]
  },
  {
   "cell_type": "code",
   "execution_count": 221,
   "metadata": {},
   "outputs": [],
   "source": [
    "np.savetxt('X_test.txt', X_test)"
   ]
  },
  {
   "cell_type": "markdown",
   "metadata": {},
   "source": [
    "# Обучение моделей"
   ]
  },
  {
   "cell_type": "code",
   "execution_count": 281,
   "metadata": {},
   "outputs": [],
   "source": [
    "import xgboost as xgb\n",
    "from sklearn.metrics import f1_score\n",
    "from sklearn.linear_model import LinearRegression, LogisticRegression\n",
    "from sklearn.preprocessing import StandardScaler\n",
    "from sklearn.model_selection import GroupKFold, cross_val_score, GridSearchCV, RandomizedSearchCV\n",
    "from sklearn.ensemble import GradientBoostingClassifier, RandomForestClassifier\n",
    "from sklearn.feature_extraction.text import TfidfTransformer as tf_idf\n",
    "from sklearn.svm import OneClassSVM, SVC\n",
    "from sklearn.neighbors import KNeighborsClassifier"
   ]
  },
  {
   "cell_type": "code",
   "execution_count": 164,
   "metadata": {},
   "outputs": [],
   "source": [
    "group_kf = GroupKFold(n_splits=5)"
   ]
  },
  {
   "cell_type": "code",
   "execution_count": 222,
   "metadata": {},
   "outputs": [],
   "source": [
    "scaler = StandardScaler()\n",
    "X_train_scale = scaler.fit_transform(X_train)"
   ]
  },
  {
   "cell_type": "code",
   "execution_count": 366,
   "metadata": {},
   "outputs": [
    {
     "data": {
      "text/plain": [
       "array([[ 5,  4,  4, ...,  5,  8,  4],\n",
       "       [ 7,  7,  6, ...,  6, 14,  8],\n",
       "       [ 3,  3,  3, ...,  4,  9,  7],\n",
       "       ...,\n",
       "       [ 0,  0,  0, ...,  0, 17, 13],\n",
       "       [ 5,  0,  0, ...,  0, 10,  3],\n",
       "       [ 1,  1,  1, ...,  0,  8,  6]])"
      ]
     },
     "execution_count": 366,
     "metadata": {},
     "output_type": "execute_result"
    }
   ],
   "source": [
    "X_train"
   ]
  },
  {
   "cell_type": "markdown",
   "metadata": {},
   "source": [
    "### Логистическая регрессия"
   ]
  },
  {
   "cell_type": "code",
   "execution_count": 223,
   "metadata": {},
   "outputs": [],
   "source": [
    "LogReg = LogisticRegression"
   ]
  },
  {
   "cell_type": "code",
   "execution_count": 269,
   "metadata": {},
   "outputs": [],
   "source": [
    "params = {'C' : [0.001, 0.01, 0.1, 1, 10, 100], 'solver': ['lbfgs', 'liblinear', 'saga'], 'penalty':['l1', 'l2']}"
   ]
  },
  {
   "cell_type": "code",
   "execution_count": 270,
   "metadata": {},
   "outputs": [],
   "source": [
    "grid_search_log = GridSearchCV(LogReg(), param_grid=params,\n",
    "                               cv=group_kf, scoring='f1', n_jobs=-1, verbose=True)"
   ]
  },
  {
   "cell_type": "code",
   "execution_count": 271,
   "metadata": {},
   "outputs": [
    {
     "name": "stdout",
     "output_type": "stream",
     "text": [
      "Fitting 5 folds for each of 36 candidates, totalling 180 fits\n"
     ]
    },
    {
     "name": "stderr",
     "output_type": "stream",
     "text": [
      "[Parallel(n_jobs=-1)]: Using backend LokyBackend with 8 concurrent workers.\n",
      "[Parallel(n_jobs=-1)]: Done  34 tasks      | elapsed:    4.0s\n",
      "[Parallel(n_jobs=-1)]: Done 180 out of 180 | elapsed:   45.0s finished\n",
      "C:\\PyMol2\\lib\\site-packages\\sklearn\\linear_model\\_logistic.py:940: ConvergenceWarning: lbfgs failed to converge (status=1):\n",
      "STOP: TOTAL NO. of ITERATIONS REACHED LIMIT.\n",
      "\n",
      "Increase the number of iterations (max_iter) or scale the data as shown in:\n",
      "    https://scikit-learn.org/stable/modules/preprocessing.html\n",
      "Please also refer to the documentation for alternative solver options:\n",
      "    https://scikit-learn.org/stable/modules/linear_model.html#logistic-regression\n",
      "  extra_warning_msg=_LOGISTIC_SOLVER_CONVERGENCE_MSG)\n"
     ]
    },
    {
     "data": {
      "text/plain": [
       "GridSearchCV(cv=GroupKFold(n_splits=5), error_score=nan,\n",
       "             estimator=LogisticRegression(C=1.0, class_weight=None, dual=False,\n",
       "                                          fit_intercept=True,\n",
       "                                          intercept_scaling=1, l1_ratio=None,\n",
       "                                          max_iter=100, multi_class='auto',\n",
       "                                          n_jobs=None, penalty='l2',\n",
       "                                          random_state=None, solver='lbfgs',\n",
       "                                          tol=0.0001, verbose=0,\n",
       "                                          warm_start=False),\n",
       "             iid='deprecated', n_jobs=-1,\n",
       "             param_grid={'C': [0.001, 0.01, 0.1, 1, 10, 100],\n",
       "                         'penalty': ['l1', 'l2'],\n",
       "                         'solver': ['lbfgs', 'liblinear', 'saga']},\n",
       "             pre_dispatch='2*n_jobs', refit=True, return_train_score=False,\n",
       "             scoring='f1', verbose=True)"
      ]
     },
     "execution_count": 271,
     "metadata": {},
     "output_type": "execute_result"
    }
   ],
   "source": [
    "grid_search_log.fit(X_train_scale, y_train, groups=groups_train)"
   ]
  },
  {
   "cell_type": "code",
   "execution_count": 272,
   "metadata": {},
   "outputs": [
    {
     "data": {
      "text/plain": [
       "(0.6538086298381192, {'C': 100, 'penalty': 'l2', 'solver': 'lbfgs'})"
      ]
     },
     "execution_count": 272,
     "metadata": {},
     "output_type": "execute_result"
    }
   ],
   "source": [
    "grid_search_log.best_score_, grid_search_log.best_params_"
   ]
  },
  {
   "cell_type": "markdown",
   "metadata": {},
   "source": [
    "Уже лучше"
   ]
  },
  {
   "cell_type": "markdown",
   "metadata": {},
   "source": [
    "### RandomFosestClassifier"
   ]
  },
  {
   "cell_type": "code",
   "execution_count": 228,
   "metadata": {},
   "outputs": [],
   "source": [
    "RandForest = RandomForestClassifier"
   ]
  },
  {
   "cell_type": "code",
   "execution_count": 229,
   "metadata": {},
   "outputs": [],
   "source": [
    "params_rf = {'n_estimators' : [200],\n",
    "             'min_samples_split':[2, 5, 8],\n",
    "             'min_samples_leaf': [2, 5, 8],\n",
    "             'max_features' : [\"sqrt\", \"log2\"],\n",
    "             'max_samples' : [0.5, 0.8, 1]\n",
    "             }"
   ]
  },
  {
   "cell_type": "code",
   "execution_count": 230,
   "metadata": {},
   "outputs": [],
   "source": [
    "grid_search_rf = GridSearchCV(RandForest(), param_grid=params_rf,\n",
    "                                     cv=group_kf, scoring='f1', n_jobs=-1, verbose=True)"
   ]
  },
  {
   "cell_type": "code",
   "execution_count": 231,
   "metadata": {},
   "outputs": [
    {
     "name": "stdout",
     "output_type": "stream",
     "text": [
      "Fitting 5 folds for each of 54 candidates, totalling 270 fits\n"
     ]
    },
    {
     "name": "stderr",
     "output_type": "stream",
     "text": [
      "[Parallel(n_jobs=-1)]: Using backend LokyBackend with 8 concurrent workers.\n",
      "[Parallel(n_jobs=-1)]: Done  34 tasks      | elapsed:   24.1s\n",
      "[Parallel(n_jobs=-1)]: Done 184 tasks      | elapsed:  1.7min\n",
      "[Parallel(n_jobs=-1)]: Done 270 out of 270 | elapsed:  2.2min finished\n"
     ]
    },
    {
     "data": {
      "text/plain": [
       "GridSearchCV(cv=GroupKFold(n_splits=5), error_score=nan,\n",
       "             estimator=RandomForestClassifier(bootstrap=True, ccp_alpha=0.0,\n",
       "                                              class_weight=None,\n",
       "                                              criterion='gini', max_depth=None,\n",
       "                                              max_features='auto',\n",
       "                                              max_leaf_nodes=None,\n",
       "                                              max_samples=None,\n",
       "                                              min_impurity_decrease=0.0,\n",
       "                                              min_impurity_split=None,\n",
       "                                              min_samples_leaf=1,\n",
       "                                              min_samples_split=2,\n",
       "                                              min_weight_fraction_leaf=0.0,\n",
       "                                              n_estimators=100, n_jobs=None,\n",
       "                                              oob_score=False,\n",
       "                                              random_state=None, verbose=0,\n",
       "                                              warm_start=False),\n",
       "             iid='deprecated', n_jobs=-1,\n",
       "             param_grid={'max_features': ['sqrt', 'log2'],\n",
       "                         'max_samples': [0.5, 0.8, 1],\n",
       "                         'min_samples_leaf': [2, 5, 8],\n",
       "                         'min_samples_split': [2, 5, 8],\n",
       "                         'n_estimators': [200]},\n",
       "             pre_dispatch='2*n_jobs', refit=True, return_train_score=False,\n",
       "             scoring='f1', verbose=True)"
      ]
     },
     "execution_count": 231,
     "metadata": {},
     "output_type": "execute_result"
    }
   ],
   "source": [
    "grid_search_rf.fit(X_train_scale, y_train, groups=groups_train)"
   ]
  },
  {
   "cell_type": "code",
   "execution_count": 232,
   "metadata": {},
   "outputs": [
    {
     "data": {
      "text/plain": [
       "(0.6650968421036331,\n",
       " {'max_features': 'sqrt',\n",
       "  'max_samples': 0.8,\n",
       "  'min_samples_leaf': 8,\n",
       "  'min_samples_split': 5,\n",
       "  'n_estimators': 200})"
      ]
     },
     "execution_count": 232,
     "metadata": {},
     "output_type": "execute_result"
    }
   ],
   "source": [
    "grid_search_rf.best_score_, grid_search_rf.best_params_"
   ]
  },
  {
   "cell_type": "code",
   "execution_count": 233,
   "metadata": {},
   "outputs": [],
   "source": [
    "forest = RandomForestClassifier(n_estimators=1000, min_samples_split=5, min_samples_leaf=8,\n",
    "                                max_samples = 0.8, max_features = 'sqrt')"
   ]
  },
  {
   "cell_type": "code",
   "execution_count": 234,
   "metadata": {},
   "outputs": [],
   "source": [
    "cross_val = cross_val_score(forest, X_train_scale, y_train, cv=group_kf, groups=groups_train, scoring='f1', n_jobs=-1)"
   ]
  },
  {
   "cell_type": "code",
   "execution_count": 235,
   "metadata": {},
   "outputs": [
    {
     "data": {
      "text/plain": [
       "0.6624079226199789"
      ]
     },
     "execution_count": 235,
     "metadata": {},
     "output_type": "execute_result"
    }
   ],
   "source": [
    "cross_val.mean()"
   ]
  },
  {
   "cell_type": "markdown",
   "metadata": {},
   "source": [
    "### KNN"
   ]
  },
  {
   "cell_type": "code",
   "execution_count": 287,
   "metadata": {},
   "outputs": [],
   "source": [
    "knn = KNeighborsClassifier"
   ]
  },
  {
   "cell_type": "code",
   "execution_count": 295,
   "metadata": {},
   "outputs": [],
   "source": [
    "params_knn = {'n_neighbors':[2, 5, 8, 12], 'weights' :['uniform', 'distance']}"
   ]
  },
  {
   "cell_type": "code",
   "execution_count": 296,
   "metadata": {},
   "outputs": [],
   "source": [
    "grid_search_knn = GridSearchCV(knn(), param_grid=params_knn,\n",
    "                               cv=group_kf, scoring='f1', n_jobs=-1, verbose=True)"
   ]
  },
  {
   "cell_type": "code",
   "execution_count": 297,
   "metadata": {},
   "outputs": [
    {
     "name": "stdout",
     "output_type": "stream",
     "text": [
      "Fitting 5 folds for each of 8 candidates, totalling 40 fits\n"
     ]
    },
    {
     "name": "stderr",
     "output_type": "stream",
     "text": [
      "[Parallel(n_jobs=-1)]: Using backend LokyBackend with 8 concurrent workers.\n",
      "[Parallel(n_jobs=-1)]: Done  40 out of  40 | elapsed:   45.9s finished\n"
     ]
    },
    {
     "data": {
      "text/plain": [
       "GridSearchCV(cv=GroupKFold(n_splits=5), error_score=nan,\n",
       "             estimator=KNeighborsClassifier(algorithm='auto', leaf_size=30,\n",
       "                                            metric='minkowski',\n",
       "                                            metric_params=None, n_jobs=None,\n",
       "                                            n_neighbors=5, p=2,\n",
       "                                            weights='uniform'),\n",
       "             iid='deprecated', n_jobs=-1,\n",
       "             param_grid={'n_neighbors': [2, 5, 8, 12],\n",
       "                         'weights': ['uniform', 'distance']},\n",
       "             pre_dispatch='2*n_jobs', refit=True, return_train_score=False,\n",
       "             scoring='f1', verbose=True)"
      ]
     },
     "execution_count": 297,
     "metadata": {},
     "output_type": "execute_result"
    }
   ],
   "source": [
    "grid_search_knn.fit(X_train_scale, y_train, groups=groups_train)"
   ]
  },
  {
   "cell_type": "code",
   "execution_count": 298,
   "metadata": {},
   "outputs": [
    {
     "data": {
      "text/plain": [
       "(0.6275297415268083, {'n_neighbors': 12, 'weights': 'distance'})"
      ]
     },
     "execution_count": 298,
     "metadata": {},
     "output_type": "execute_result"
    }
   ],
   "source": [
    "grid_search_knn.best_score_, grid_search_knn.best_params_"
   ]
  },
  {
   "cell_type": "markdown",
   "metadata": {},
   "source": [
    "### SVM"
   ]
  },
  {
   "cell_type": "code",
   "execution_count": 299,
   "metadata": {},
   "outputs": [],
   "source": [
    "svm = SVC"
   ]
  },
  {
   "cell_type": "code",
   "execution_count": 305,
   "metadata": {},
   "outputs": [],
   "source": [
    "params_svm = {'C':[0.01, 1, 100], 'degree' :[3, 5], 'kernel':['rbf', 'poly']}"
   ]
  },
  {
   "cell_type": "code",
   "execution_count": 306,
   "metadata": {},
   "outputs": [],
   "source": [
    "grid_search_svm = GridSearchCV(svm(), param_grid=params_svm,\n",
    "                               cv=group_kf, scoring='f1', n_jobs=-1, verbose=True)"
   ]
  },
  {
   "cell_type": "code",
   "execution_count": 307,
   "metadata": {},
   "outputs": [
    {
     "name": "stdout",
     "output_type": "stream",
     "text": [
      "Fitting 5 folds for each of 12 candidates, totalling 60 fits\n"
     ]
    },
    {
     "name": "stderr",
     "output_type": "stream",
     "text": [
      "[Parallel(n_jobs=-1)]: Using backend LokyBackend with 8 concurrent workers.\n",
      "[Parallel(n_jobs=-1)]: Done  34 tasks      | elapsed:  1.4min\n",
      "[Parallel(n_jobs=-1)]: Done  60 out of  60 | elapsed:  3.2min finished\n"
     ]
    },
    {
     "data": {
      "text/plain": [
       "GridSearchCV(cv=GroupKFold(n_splits=5), error_score=nan,\n",
       "             estimator=SVC(C=1.0, break_ties=False, cache_size=200,\n",
       "                           class_weight=None, coef0=0.0,\n",
       "                           decision_function_shape='ovr', degree=3,\n",
       "                           gamma='scale', kernel='rbf', max_iter=-1,\n",
       "                           probability=False, random_state=None, shrinking=True,\n",
       "                           tol=0.001, verbose=False),\n",
       "             iid='deprecated', n_jobs=-1,\n",
       "             param_grid={'C': [0.01, 1, 100], 'degree': [3, 5],\n",
       "                         'kernel': ['rbf', 'poly']},\n",
       "             pre_dispatch='2*n_jobs', refit=True, return_train_score=False,\n",
       "             scoring='f1', verbose=True)"
      ]
     },
     "execution_count": 307,
     "metadata": {},
     "output_type": "execute_result"
    }
   ],
   "source": [
    "grid_search_svm.fit(X_train_scale, y_train, groups=groups_train)"
   ]
  },
  {
   "cell_type": "code",
   "execution_count": 308,
   "metadata": {},
   "outputs": [
    {
     "data": {
      "text/plain": [
       "(0.629972443492026, {'C': 1, 'degree': 3, 'kernel': 'rbf'})"
      ]
     },
     "execution_count": 308,
     "metadata": {},
     "output_type": "execute_result"
    }
   ],
   "source": [
    "grid_search_svm.best_score_, grid_search_svm.best_params_"
   ]
  },
  {
   "cell_type": "markdown",
   "metadata": {},
   "source": [
    "### GradientBoosting"
   ]
  },
  {
   "cell_type": "code",
   "execution_count": 236,
   "metadata": {},
   "outputs": [],
   "source": [
    "params_gb =  {'alpha': [0.01, 0.1, 1],\n",
    "              'colsample_bytree': [0.5, 0.7, 1],\n",
    "              'eta': [0.01, 0.1, 1],\n",
    "              'max_depth': [3, 4, 6],\n",
    "              'gamma' : [0, 1, 10],\n",
    "               'n_estimators' : [100, 200, 300],\n",
    "               'subsample': [0.5, 0.7, 1]}"
   ]
  },
  {
   "cell_type": "code",
   "execution_count": 237,
   "metadata": {},
   "outputs": [],
   "source": [
    "grid_search_gb = RandomizedSearchCV(xgb.XGBClassifier(n_jobs=-1), param_distributions=params_gb,\n",
    "                                    n_iter=10, cv=group_kf, scoring='f1', n_jobs=-1, verbose=True)"
   ]
  },
  {
   "cell_type": "code",
   "execution_count": 238,
   "metadata": {},
   "outputs": [
    {
     "name": "stdout",
     "output_type": "stream",
     "text": [
      "Fitting 5 folds for each of 10 candidates, totalling 50 fits\n"
     ]
    },
    {
     "name": "stderr",
     "output_type": "stream",
     "text": [
      "[Parallel(n_jobs=-1)]: Using backend LokyBackend with 8 concurrent workers.\n",
      "[Parallel(n_jobs=-1)]: Done  34 tasks      | elapsed:  2.3min\n",
      "[Parallel(n_jobs=-1)]: Done  50 out of  50 | elapsed:  2.9min finished\n"
     ]
    },
    {
     "data": {
      "text/plain": [
       "RandomizedSearchCV(cv=GroupKFold(n_splits=5), error_score=nan,\n",
       "                   estimator=XGBClassifier(base_score=None, booster=None,\n",
       "                                           colsample_bylevel=None,\n",
       "                                           colsample_bynode=None,\n",
       "                                           colsample_bytree=None, gamma=None,\n",
       "                                           gpu_id=None, importance_type='gain',\n",
       "                                           interaction_constraints=None,\n",
       "                                           learning_rate=None,\n",
       "                                           max_delta_step=None, max_depth=None,\n",
       "                                           min_child_weight=None, missing=nan,\n",
       "                                           monoto...\n",
       "                                           verbosity=None),\n",
       "                   iid='deprecated', n_iter=10, n_jobs=-1,\n",
       "                   param_distributions={'alpha': [0.01, 0.1, 1],\n",
       "                                        'colsample_bytree': [0.5, 0.7, 1],\n",
       "                                        'eta': [0.01, 0.1, 1],\n",
       "                                        'gamma': [0, 1, 10],\n",
       "                                        'lambda': [0.01, 0.1],\n",
       "                                        'max_depth': [3, 4, 6],\n",
       "                                        'n_estimators': [100, 200, 300],\n",
       "                                        'subsample': [0.5, 0.7, 1]},\n",
       "                   pre_dispatch='2*n_jobs', random_state=None, refit=True,\n",
       "                   return_train_score=False, scoring='f1', verbose=True)"
      ]
     },
     "execution_count": 238,
     "metadata": {},
     "output_type": "execute_result"
    }
   ],
   "source": [
    "grid_search_gb.fit(X_train_scale, y_train, groups=groups_train)"
   ]
  },
  {
   "cell_type": "code",
   "execution_count": 239,
   "metadata": {},
   "outputs": [
    {
     "data": {
      "text/plain": [
       "(0.6657263419239584,\n",
       " {'subsample': 0.5,\n",
       "  'n_estimators': 300,\n",
       "  'max_depth': 6,\n",
       "  'lambda': 0.01,\n",
       "  'gamma': 0,\n",
       "  'eta': 0.01,\n",
       "  'colsample_bytree': 1,\n",
       "  'alpha': 1})"
      ]
     },
     "execution_count": 239,
     "metadata": {},
     "output_type": "execute_result"
    }
   ],
   "source": [
    "grid_search_gb.best_score_, grid_search_gb.best_params_"
   ]
  },
  {
   "cell_type": "code",
   "execution_count": 310,
   "metadata": {},
   "outputs": [],
   "source": [
    "clf = xgb.XGBClassifier()"
   ]
  },
  {
   "cell_type": "code",
   "execution_count": 316,
   "metadata": {},
   "outputs": [],
   "source": [
    "params = {'n_estimators': [100], 'eta' : [0.001, 0.001, 0.01, 0.5]}"
   ]
  },
  {
   "cell_type": "code",
   "execution_count": 317,
   "metadata": {},
   "outputs": [],
   "source": [
    "grid_search = GridSearchCV(clf, param_grid=params,\n",
    "                           cv=group_kf, scoring='f1', n_jobs=-1, verbose=True)"
   ]
  },
  {
   "cell_type": "code",
   "execution_count": 318,
   "metadata": {},
   "outputs": [
    {
     "name": "stdout",
     "output_type": "stream",
     "text": [
      "Fitting 5 folds for each of 4 candidates, totalling 20 fits\n"
     ]
    },
    {
     "name": "stderr",
     "output_type": "stream",
     "text": [
      "[Parallel(n_jobs=-1)]: Using backend LokyBackend with 8 concurrent workers.\n",
      "[Parallel(n_jobs=-1)]: Done  20 out of  20 | elapsed:   40.9s finished\n"
     ]
    },
    {
     "data": {
      "text/plain": [
       "GridSearchCV(cv=GroupKFold(n_splits=5), error_score=nan,\n",
       "             estimator=XGBClassifier(base_score=None, booster=None,\n",
       "                                     colsample_bylevel=None,\n",
       "                                     colsample_bynode=None,\n",
       "                                     colsample_bytree=None, gamma=None,\n",
       "                                     gpu_id=None, importance_type='gain',\n",
       "                                     interaction_constraints=None,\n",
       "                                     learning_rate=None, max_delta_step=None,\n",
       "                                     max_depth=None, min_child_weight=None,\n",
       "                                     missing=nan, monotone_con...\n",
       "                                     num_parallel_tree=None,\n",
       "                                     objective='binary:logistic',\n",
       "                                     random_state=None, reg_alpha=None,\n",
       "                                     reg_lambda=None, scale_pos_weight=None,\n",
       "                                     subsample=None, tree_method=None,\n",
       "                                     validate_parameters=False,\n",
       "                                     verbosity=None),\n",
       "             iid='deprecated', n_jobs=-1,\n",
       "             param_grid={'eta': [0.001, 0.001, 0.01, 0.5],\n",
       "                         'n_estimators': [100]},\n",
       "             pre_dispatch='2*n_jobs', refit=True, return_train_score=False,\n",
       "             scoring='f1', verbose=True)"
      ]
     },
     "execution_count": 318,
     "metadata": {},
     "output_type": "execute_result"
    }
   ],
   "source": [
    "grid_search.fit(X_train_scale, y_train, groups=groups_train)"
   ]
  },
  {
   "cell_type": "code",
   "execution_count": 319,
   "metadata": {},
   "outputs": [
    {
     "data": {
      "text/plain": [
       "0.6460423558447446"
      ]
     },
     "execution_count": 319,
     "metadata": {},
     "output_type": "execute_result"
    }
   ],
   "source": [
    "grid_search.best_score_"
   ]
  },
  {
   "cell_type": "code",
   "execution_count": 320,
   "metadata": {},
   "outputs": [
    {
     "data": {
      "text/plain": [
       "{'eta': 0.5, 'n_estimators': 100}"
      ]
     },
     "execution_count": 320,
     "metadata": {},
     "output_type": "execute_result"
    }
   ],
   "source": [
    "grid_search.best_params_"
   ]
  },
  {
   "cell_type": "markdown",
   "metadata": {},
   "source": [
    "Параметры деревьев"
   ]
  },
  {
   "cell_type": "code",
   "execution_count": 322,
   "metadata": {},
   "outputs": [],
   "source": [
    "params = {'n_estimators': [100], 'eta' : [0.5], \n",
    "          'max_depth':[3, 4, 6], \n",
    "          'min_child_weight':[0.5, 1, 3, 5],\n",
    "         }"
   ]
  },
  {
   "cell_type": "code",
   "execution_count": 323,
   "metadata": {},
   "outputs": [],
   "source": [
    "grid_search = GridSearchCV(clf, param_grid=params,\n",
    "                           cv=group_kf, scoring='f1', n_jobs=-1, verbose=True)"
   ]
  },
  {
   "cell_type": "code",
   "execution_count": 324,
   "metadata": {},
   "outputs": [
    {
     "name": "stdout",
     "output_type": "stream",
     "text": [
      "Fitting 5 folds for each of 12 candidates, totalling 60 fits\n"
     ]
    },
    {
     "name": "stderr",
     "output_type": "stream",
     "text": [
      "[Parallel(n_jobs=-1)]: Using backend LokyBackend with 8 concurrent workers.\n",
      "[Parallel(n_jobs=-1)]: Done  34 tasks      | elapsed:   45.3s\n",
      "[Parallel(n_jobs=-1)]: Done  60 out of  60 | elapsed:  1.5min finished\n"
     ]
    },
    {
     "data": {
      "text/plain": [
       "GridSearchCV(cv=GroupKFold(n_splits=5), error_score=nan,\n",
       "             estimator=XGBClassifier(base_score=None, booster=None,\n",
       "                                     colsample_bylevel=None,\n",
       "                                     colsample_bynode=None,\n",
       "                                     colsample_bytree=None, gamma=None,\n",
       "                                     gpu_id=None, importance_type='gain',\n",
       "                                     interaction_constraints=None,\n",
       "                                     learning_rate=None, max_delta_step=None,\n",
       "                                     max_depth=None, min_child_weight=None,\n",
       "                                     missing=nan, monotone_con...\n",
       "                                     random_state=None, reg_alpha=None,\n",
       "                                     reg_lambda=None, scale_pos_weight=None,\n",
       "                                     subsample=None, tree_method=None,\n",
       "                                     validate_parameters=False,\n",
       "                                     verbosity=None),\n",
       "             iid='deprecated', n_jobs=-1,\n",
       "             param_grid={'eta': [0.5], 'max_depth': [3, 4, 6],\n",
       "                         'min_child_weight': [0.5, 1, 3, 5],\n",
       "                         'n_estimators': [100]},\n",
       "             pre_dispatch='2*n_jobs', refit=True, return_train_score=False,\n",
       "             scoring='f1', verbose=True)"
      ]
     },
     "execution_count": 324,
     "metadata": {},
     "output_type": "execute_result"
    }
   ],
   "source": [
    "grid_search.fit(X_train_scale, y_train, groups=groups_train)"
   ]
  },
  {
   "cell_type": "code",
   "execution_count": 325,
   "metadata": {},
   "outputs": [
    {
     "data": {
      "text/plain": [
       "(0.655344483191221,\n",
       " {'eta': 0.5, 'max_depth': 3, 'min_child_weight': 1, 'n_estimators': 100})"
      ]
     },
     "execution_count": 325,
     "metadata": {},
     "output_type": "execute_result"
    }
   ],
   "source": [
    "grid_search.best_score_, grid_search.best_params_"
   ]
  },
  {
   "cell_type": "markdown",
   "metadata": {},
   "source": [
    "Стохастика"
   ]
  },
  {
   "cell_type": "code",
   "execution_count": 326,
   "metadata": {},
   "outputs": [],
   "source": [
    "params = {'eta' : [0.5], 'max_depth':[3], 'min_child_weight':[1], 'n_estimators': [100],\n",
    "          'subsample' : [0.5, 0.7, 1], 'colsample_bytree' : [0.7, 1], 'subsample_bytree' : [0.7, 1]}"
   ]
  },
  {
   "cell_type": "code",
   "execution_count": 327,
   "metadata": {},
   "outputs": [],
   "source": [
    "grid_search = GridSearchCV(clf, param_grid=params,\n",
    "                           cv=group_kf, scoring='f1', n_jobs=-1, verbose=True)"
   ]
  },
  {
   "cell_type": "code",
   "execution_count": 328,
   "metadata": {},
   "outputs": [
    {
     "name": "stdout",
     "output_type": "stream",
     "text": [
      "Fitting 5 folds for each of 12 candidates, totalling 60 fits\n"
     ]
    },
    {
     "name": "stderr",
     "output_type": "stream",
     "text": [
      "[Parallel(n_jobs=-1)]: Using backend LokyBackend with 8 concurrent workers.\n",
      "[Parallel(n_jobs=-1)]: Done  34 tasks      | elapsed:   36.8s\n",
      "[Parallel(n_jobs=-1)]: Done  60 out of  60 | elapsed:  1.1min finished\n"
     ]
    },
    {
     "data": {
      "text/plain": [
       "GridSearchCV(cv=GroupKFold(n_splits=5), error_score=nan,\n",
       "             estimator=XGBClassifier(base_score=None, booster=None,\n",
       "                                     colsample_bylevel=None,\n",
       "                                     colsample_bynode=None,\n",
       "                                     colsample_bytree=None, gamma=None,\n",
       "                                     gpu_id=None, importance_type='gain',\n",
       "                                     interaction_constraints=None,\n",
       "                                     learning_rate=None, max_delta_step=None,\n",
       "                                     max_depth=None, min_child_weight=None,\n",
       "                                     missing=nan, monotone_con...\n",
       "                                     subsample=None, tree_method=None,\n",
       "                                     validate_parameters=False,\n",
       "                                     verbosity=None),\n",
       "             iid='deprecated', n_jobs=-1,\n",
       "             param_grid={'colsample_bytree': [0.7, 1], 'eta': [0.5],\n",
       "                         'max_depth': [3], 'min_child_weight': [1],\n",
       "                         'n_estimators': [100], 'subsample': [0.5, 0.7, 1],\n",
       "                         'subsample_bytree': [0.7, 1]},\n",
       "             pre_dispatch='2*n_jobs', refit=True, return_train_score=False,\n",
       "             scoring='f1', verbose=True)"
      ]
     },
     "execution_count": 328,
     "metadata": {},
     "output_type": "execute_result"
    }
   ],
   "source": [
    "grid_search.fit(X_train_scale, y_train, groups=groups_train)"
   ]
  },
  {
   "cell_type": "code",
   "execution_count": 329,
   "metadata": {},
   "outputs": [
    {
     "data": {
      "text/plain": [
       "(0.6553615581630895,\n",
       " {'colsample_bytree': 1,\n",
       "  'eta': 0.5,\n",
       "  'max_depth': 3,\n",
       "  'min_child_weight': 1,\n",
       "  'n_estimators': 100,\n",
       "  'subsample': 0.7,\n",
       "  'subsample_bytree': 0.7})"
      ]
     },
     "execution_count": 329,
     "metadata": {},
     "output_type": "execute_result"
    }
   ],
   "source": [
    "grid_search.best_score_, grid_search.best_params_"
   ]
  },
  {
   "cell_type": "code",
   "execution_count": 330,
   "metadata": {},
   "outputs": [],
   "source": [
    "params = {'eta' : [0.5],\n",
    "          'max_depth':[3],\n",
    "          'min_child_weight':[1],\n",
    "          'n_estimators': [100],\n",
    "          'subsample' : [0.7],\n",
    "          'colsample_bytree': [1],\n",
    "          'subsample_bytree': [0.7],\n",
    "          'alpha' : [0.01, 0.1, 1] ,\n",
    "          'lambda' : [0.01, 0.1, 1]\n",
    "         }"
   ]
  },
  {
   "cell_type": "code",
   "execution_count": 331,
   "metadata": {},
   "outputs": [],
   "source": [
    "grid_search = GridSearchCV(clf, param_grid=params,\n",
    "                           cv=group_kf, scoring='f1', n_jobs=-1, verbose=True)"
   ]
  },
  {
   "cell_type": "code",
   "execution_count": 332,
   "metadata": {},
   "outputs": [
    {
     "name": "stdout",
     "output_type": "stream",
     "text": [
      "Fitting 5 folds for each of 9 candidates, totalling 45 fits\n"
     ]
    },
    {
     "name": "stderr",
     "output_type": "stream",
     "text": [
      "[Parallel(n_jobs=-1)]: Using backend LokyBackend with 8 concurrent workers.\n",
      "[Parallel(n_jobs=-1)]: Done  45 out of  45 | elapsed:   52.9s finished\n"
     ]
    },
    {
     "data": {
      "text/plain": [
       "GridSearchCV(cv=GroupKFold(n_splits=5), error_score=nan,\n",
       "             estimator=XGBClassifier(base_score=None, booster=None,\n",
       "                                     colsample_bylevel=None,\n",
       "                                     colsample_bynode=None,\n",
       "                                     colsample_bytree=None, gamma=None,\n",
       "                                     gpu_id=None, importance_type='gain',\n",
       "                                     interaction_constraints=None,\n",
       "                                     learning_rate=None, max_delta_step=None,\n",
       "                                     max_depth=None, min_child_weight=None,\n",
       "                                     missing=nan, monotone_con...\n",
       "                                     subsample=None, tree_method=None,\n",
       "                                     validate_parameters=False,\n",
       "                                     verbosity=None),\n",
       "             iid='deprecated', n_jobs=-1,\n",
       "             param_grid={'alpha': [0.01, 0.1, 1], 'colsample_bytree': [1],\n",
       "                         'eta': [0.5], 'lambda': [0.01, 0.1, 1],\n",
       "                         'max_depth': [3], 'min_child_weight': [1],\n",
       "                         'n_estimators': [100], 'subsample': [0.7],\n",
       "                         'subsample_bytree': [0.7]},\n",
       "             pre_dispatch='2*n_jobs', refit=True, return_train_score=False,\n",
       "             scoring='f1', verbose=True)"
      ]
     },
     "execution_count": 332,
     "metadata": {},
     "output_type": "execute_result"
    }
   ],
   "source": [
    "grid_search.fit(X_train_scale, y_train, groups=groups_train)"
   ]
  },
  {
   "cell_type": "code",
   "execution_count": 333,
   "metadata": {},
   "outputs": [
    {
     "data": {
      "text/plain": [
       "(0.6529357363310012,\n",
       " {'alpha': 0.01,\n",
       "  'colsample_bytree': 1,\n",
       "  'eta': 0.5,\n",
       "  'lambda': 1,\n",
       "  'max_depth': 3,\n",
       "  'min_child_weight': 1,\n",
       "  'n_estimators': 100,\n",
       "  'subsample': 0.7,\n",
       "  'subsample_bytree': 0.7})"
      ]
     },
     "execution_count": 333,
     "metadata": {},
     "output_type": "execute_result"
    }
   ],
   "source": [
    "grid_search.best_score_, grid_search.best_params_"
   ]
  },
  {
   "cell_type": "code",
   "execution_count": 350,
   "metadata": {},
   "outputs": [],
   "source": [
    "final_params = {'eta' : [0.001, 0.01],\n",
    "                  'max_depth':[3],\n",
    "                  'min_child_weight':[1],\n",
    "                  'n_estimators': [500, 750, 1000],\n",
    "                  'subsample' : [0.7],\n",
    "                  'colsample_bytree': [1],\n",
    "                  'subsample_bytree': [0.7],\n",
    "                  'alpha' : [0.01] ,\n",
    "                  'lambda' : [1]}"
   ]
  },
  {
   "cell_type": "code",
   "execution_count": 351,
   "metadata": {},
   "outputs": [],
   "source": [
    "grid_search = GridSearchCV(clf, param_grid=final_params,\n",
    "                           cv=group_kf, scoring='f1', n_jobs=-1, verbose=True)"
   ]
  },
  {
   "cell_type": "code",
   "execution_count": 352,
   "metadata": {},
   "outputs": [
    {
     "name": "stdout",
     "output_type": "stream",
     "text": [
      "Fitting 5 folds for each of 6 candidates, totalling 30 fits\n"
     ]
    },
    {
     "name": "stderr",
     "output_type": "stream",
     "text": [
      "[Parallel(n_jobs=-1)]: Using backend LokyBackend with 8 concurrent workers.\n",
      "[Parallel(n_jobs=-1)]: Done  30 out of  30 | elapsed:  6.1min finished\n"
     ]
    },
    {
     "data": {
      "text/plain": [
       "GridSearchCV(cv=GroupKFold(n_splits=5), error_score=nan,\n",
       "             estimator=XGBClassifier(base_score=None, booster=None,\n",
       "                                     colsample_bylevel=None,\n",
       "                                     colsample_bynode=None,\n",
       "                                     colsample_bytree=None, gamma=None,\n",
       "                                     gpu_id=None, importance_type='gain',\n",
       "                                     interaction_constraints=None,\n",
       "                                     learning_rate=None, max_delta_step=None,\n",
       "                                     max_depth=None, min_child_weight=None,\n",
       "                                     missing=nan, monotone_con...\n",
       "                                     validate_parameters=False,\n",
       "                                     verbosity=None),\n",
       "             iid='deprecated', n_jobs=-1,\n",
       "             param_grid={'alpha': [0.01], 'colsample_bytree': [1],\n",
       "                         'eta': [0.001, 0.01], 'lambda': [1], 'max_depth': [3],\n",
       "                         'min_child_weight': [1],\n",
       "                         'n_estimators': [500, 750, 1000], 'subsample': [0.7],\n",
       "                         'subsample_bytree': [0.7]},\n",
       "             pre_dispatch='2*n_jobs', refit=True, return_train_score=False,\n",
       "             scoring='f1', verbose=True)"
      ]
     },
     "execution_count": 352,
     "metadata": {},
     "output_type": "execute_result"
    }
   ],
   "source": [
    "grid_search.fit(X_train_scale, y_train, groups=groups_train)"
   ]
  },
  {
   "cell_type": "code",
   "execution_count": 353,
   "metadata": {},
   "outputs": [
    {
     "data": {
      "text/plain": [
       "(0.6663305770659914,\n",
       " {'alpha': 0.01,\n",
       "  'colsample_bytree': 1,\n",
       "  'eta': 0.01,\n",
       "  'lambda': 1,\n",
       "  'max_depth': 3,\n",
       "  'min_child_weight': 1,\n",
       "  'n_estimators': 1000,\n",
       "  'subsample': 0.7,\n",
       "  'subsample_bytree': 0.7})"
      ]
     },
     "execution_count": 353,
     "metadata": {},
     "output_type": "execute_result"
    }
   ],
   "source": [
    "grid_search.best_score_, grid_search.best_params_"
   ]
  },
  {
   "cell_type": "code",
   "execution_count": 354,
   "metadata": {},
   "outputs": [],
   "source": [
    "best_params_xgb =  {'n_estimators':1000,\n",
    "                    'alpha': 0.01,\n",
    "                   'colsample_bytree': 1,\n",
    "                   'eta': 0.01,\n",
    "                   'lambda': 0.1,\n",
    "                   'max_depth': 3,\n",
    "                   'min_child_weight': 1,\n",
    "                   'subsample': 0.7,\n",
    "                   'colsample_bytree': 1,\n",
    "                   'subsample_bytree': 0.7,\n",
    "                   }"
   ]
  },
  {
   "cell_type": "code",
   "execution_count": 343,
   "metadata": {},
   "outputs": [],
   "source": [
    "import tqdm\n",
    "\n",
    "train_n_ind, test_n_ind = next(group_kf.split(X_train_scale,\n",
    "                                                  y_train, groups_train))\n",
    "\n",
    "train_score = []\n",
    "test_score = []\n",
    "best_clf = xgb.XGBClassifier(warm_start = True, **best_params_xgb, n_jobs = - 1)"
   ]
  },
  {
   "cell_type": "code",
   "execution_count": 344,
   "metadata": {},
   "outputs": [
    {
     "name": "stderr",
     "output_type": "stream",
     "text": [
      "100%|██████████████████████████████████████████████████████████████████████████████████| 50/50 [04:13<00:00,  5.06s/it]\n"
     ]
    }
   ],
   "source": [
    "for n in tqdm.tqdm(np.arange(1, 500, 10)):\n",
    "    best_clf.n_estimators = n\n",
    "    best_clf.fit(X_train_scale[train_n_ind], y_train[train_n_ind])\n",
    "    train_score.append(f1_score(y_train[train_n_ind], best_clf.predict(X_train_scale[train_n_ind])))\n",
    "    test_score.append(f1_score(y_train[test_n_ind], best_clf.predict(X_train_scale[test_n_ind])))"
   ]
  },
  {
   "cell_type": "code",
   "execution_count": 365,
   "metadata": {},
   "outputs": [
    {
     "data": {
      "image/png": "[encoded data removed]",
      "text/plain": [
       "<Figure size 720x360 with 1 Axes>"
      ]
     },
     "metadata": {
      "needs_background": "light"
     },
     "output_type": "display_data"
    }
   ],
   "source": [
    "import matplotlib.pyplot as plt\n",
    "\n",
    "fig = plt.figure(figsize=(10,5))\n",
    "plt.plot(np.arange(1, 500, 10), train_score, label = 'train_score')\n",
    "plt.plot(np.arange(1, 500, 10), test_score, label = 'test_score')\n",
    "plt.legend()\n",
    "plt.xlabel('Число деревьев')\n",
    "plt.ylabel('f-мера')\n",
    "plt.show()"
   ]
  },
  {
   "cell_type": "markdown",
   "metadata": {},
   "source": [
    "### Mix"
   ]
  },
  {
   "cell_type": "code",
   "execution_count": 131,
   "metadata": {},
   "outputs": [],
   "source": [
    "from sklearn.ensemble import StackingClassifier"
   ]
  },
  {
   "cell_type": "code",
   "execution_count": 357,
   "metadata": {},
   "outputs": [],
   "source": [
    "estimators = [('log', LogisticRegression(C=100, penalty='l2', solver='lbfgs', max_iter=400)), \n",
    "              \n",
    "              ('r_forest', RandomForestClassifier(n_estimators=1000, min_samples_split=5, min_samples_leaf=8,\n",
    "                                                  max_samples = 0.8, max_features = 'sqrt')),\n",
    "              \n",
    "              ('xgb', xgb.XGBClassifier(**best_params_xgb)),\n",
    "              \n",
    "              ('knn', KNeighborsClassifier(n_neighbors=12, weights='distance')),\n",
    "              \n",
    "              ('svm', SVC(C=1, kernel='rbf')) \n",
    "             ]"
   ]
  },
  {
   "cell_type": "code",
   "execution_count": 358,
   "metadata": {},
   "outputs": [],
   "source": [
    "stack_model = StackingClassifier(estimators=estimators, final_estimator=LogisticRegression(), \n",
    "                                 cv=5, stack_method='auto')"
   ]
  },
  {
   "cell_type": "code",
   "execution_count": 359,
   "metadata": {},
   "outputs": [
    {
     "data": {
      "text/plain": [
       "StackingClassifier(cv=5,\n",
       "                   estimators=[('log',\n",
       "                                LogisticRegression(C=100, class_weight=None,\n",
       "                                                   dual=False,\n",
       "                                                   fit_intercept=True,\n",
       "                                                   intercept_scaling=1,\n",
       "                                                   l1_ratio=None, max_iter=400,\n",
       "                                                   multi_class='auto',\n",
       "                                                   n_jobs=None, penalty='l2',\n",
       "                                                   random_state=None,\n",
       "                                                   solver='lbfgs', tol=0.0001,\n",
       "                                                   verbose=0,\n",
       "                                                   warm_start=False)),\n",
       "                               ('r_forest',\n",
       "                                RandomForestClassifier(bootstrap=True,\n",
       "                                                       ccp_alpha=0.0,\n",
       "                                                       class_...\n",
       "                                    shrinking=True, tol=0.001,\n",
       "                                    verbose=False))],\n",
       "                   final_estimator=LogisticRegression(C=1.0, class_weight=None,\n",
       "                                                      dual=False,\n",
       "                                                      fit_intercept=True,\n",
       "                                                      intercept_scaling=1,\n",
       "                                                      l1_ratio=None,\n",
       "                                                      max_iter=100,\n",
       "                                                      multi_class='auto',\n",
       "                                                      n_jobs=None, penalty='l2',\n",
       "                                                      random_state=None,\n",
       "                                                      solver='lbfgs',\n",
       "                                                      tol=0.0001, verbose=0,\n",
       "                                                      warm_start=False),\n",
       "                   n_jobs=None, passthrough=False, stack_method='auto',\n",
       "                   verbose=0)"
      ]
     },
     "execution_count": 359,
     "metadata": {},
     "output_type": "execute_result"
    }
   ],
   "source": [
    "stack_model.fit(X_train_scale, y_train)"
   ]
  },
  {
   "cell_type": "markdown",
   "metadata": {},
   "source": [
    "# Предикт"
   ]
  },
  {
   "cell_type": "code",
   "execution_count": 360,
   "metadata": {},
   "outputs": [],
   "source": [
    "X_test_scale = scaler.transform(X_test)"
   ]
  },
  {
   "cell_type": "code",
   "execution_count": 361,
   "metadata": {},
   "outputs": [],
   "source": [
    "final_target = stack_model.predict(X_test_scale)"
   ]
  },
  {
   "cell_type": "code",
   "execution_count": 362,
   "metadata": {},
   "outputs": [],
   "source": [
    "submission = pd.DataFrame(test_data['pair_id'])"
   ]
  },
  {
   "cell_type": "code",
   "execution_count": 363,
   "metadata": {},
   "outputs": [],
   "source": [
    "submission['target'] = pd.Series(final_target, name='target')"
   ]
  },
  {
   "cell_type": "code",
   "execution_count": 364,
   "metadata": {},
   "outputs": [],
   "source": [
    "submission.to_csv('submission_stack_5.csv', index=False)"
   ]
  }
 ],
 "metadata": {
  "kernelspec": {
   "display_name": "Python 3",
   "language": "python",
   "name": "python3"
  },
  "language_info": {
   "codemirror_mode": {
    "name": "ipython",
    "version": 3
   },
   "file_extension": ".py",
   "mimetype": "text/x-python",
   "name": "python",
   "nbconvert_exporter": "python",
   "pygments_lexer": "ipython3",
   "version": "3.6.10"
  }
 },
 "nbformat": 4,
 "nbformat_minor": 4
}
